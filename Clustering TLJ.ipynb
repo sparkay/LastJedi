{
 "cells": [
  {
   "cell_type": "markdown",
   "metadata": {},
   "source": [
    "# Clustering The Last Jedi Reviews\n",
    "This notebook does a simple k-means clustering trial on Rotten Tomatoes' User Reviews of the Last Jedi.\n",
    "Vectorizing features via tf-idf.\n",
    "Results are not so informative."
   ]
  },
  {
   "cell_type": "code",
   "execution_count": 5,
   "metadata": {
    "collapsed": true
   },
   "outputs": [],
   "source": [
    "# Setup\n",
    "from __future__ import print_function\n",
    "\n",
    "from sklearn.decomposition import TruncatedSVD\n",
    "from sklearn.feature_extraction.text import TfidfVectorizer\n",
    "from sklearn.feature_extraction.text import HashingVectorizer\n",
    "from sklearn.feature_extraction.text import TfidfTransformer\n",
    "from sklearn.pipeline import make_pipeline\n",
    "from sklearn.preprocessing import Normalizer\n",
    "from sklearn import metrics\n",
    "\n",
    "from sklearn.cluster import KMeans, MiniBatchKMeans\n",
    "\n",
    "import logging\n",
    "from optparse import OptionParser\n",
    "import sys\n",
    "from time import time\n",
    "\n",
    "import numpy as np\n",
    "import pandas as pd\n",
    "import os"
   ]
  },
  {
   "cell_type": "code",
   "execution_count": 6,
   "metadata": {},
   "outputs": [
    {
     "data": {
      "text/html": [
       "<div>\n",
       "<style scoped>\n",
       "    .dataframe tbody tr th:only-of-type {\n",
       "        vertical-align: middle;\n",
       "    }\n",
       "\n",
       "    .dataframe tbody tr th {\n",
       "        vertical-align: top;\n",
       "    }\n",
       "\n",
       "    .dataframe thead th {\n",
       "        text-align: right;\n",
       "    }\n",
       "</style>\n",
       "<table border=\"1\" class=\"dataframe\">\n",
       "  <thead>\n",
       "    <tr style=\"text-align: right;\">\n",
       "      <th></th>\n",
       "      <th>userid</th>\n",
       "      <th>username</th>\n",
       "      <th>rating</th>\n",
       "      <th>text</th>\n",
       "    </tr>\n",
       "  </thead>\n",
       "  <tbody>\n",
       "    <tr>\n",
       "      <th>0</th>\n",
       "      <td>840073561</td>\n",
       "      <td>['Jeffrey O']</td>\n",
       "      <td>2.5</td>\n",
       "      <td>[\"At least it was sort of original? Other than...</td>\n",
       "    </tr>\n",
       "    <tr>\n",
       "      <th>1</th>\n",
       "      <td>977007867</td>\n",
       "      <td>['Claire R']</td>\n",
       "      <td>0.5</td>\n",
       "      <td>[\"The acting was great but the story writing w...</td>\n",
       "    </tr>\n",
       "    <tr>\n",
       "      <th>2</th>\n",
       "      <td>976967449</td>\n",
       "      <td>['Caleb D']</td>\n",
       "      <td>0.5</td>\n",
       "      <td>['Would not recommend for so many reasons. Thi...</td>\n",
       "    </tr>\n",
       "    <tr>\n",
       "      <th>3</th>\n",
       "      <td>977007880</td>\n",
       "      <td>['James F']</td>\n",
       "      <td>0.5</td>\n",
       "      <td>['Horrible. Just watch any of the Youtube stuf...</td>\n",
       "    </tr>\n",
       "    <tr>\n",
       "      <th>4</th>\n",
       "      <td>977007877</td>\n",
       "      <td>['Michael C']</td>\n",
       "      <td>4.0</td>\n",
       "      <td>['Really good movie better than Force Awakens ...</td>\n",
       "    </tr>\n",
       "  </tbody>\n",
       "</table>\n",
       "</div>"
      ],
      "text/plain": [
       "      userid       username  rating  \\\n",
       "0  840073561  ['Jeffrey O']     2.5   \n",
       "1  977007867   ['Claire R']     0.5   \n",
       "2  976967449    ['Caleb D']     0.5   \n",
       "3  977007880    ['James F']     0.5   \n",
       "4  977007877  ['Michael C']     4.0   \n",
       "\n",
       "                                                text  \n",
       "0  [\"At least it was sort of original? Other than...  \n",
       "1  [\"The acting was great but the story writing w...  \n",
       "2  ['Would not recommend for so many reasons. Thi...  \n",
       "3  ['Horrible. Just watch any of the Youtube stuf...  \n",
       "4  ['Really good movie better than Force Awakens ...  "
      ]
     },
     "execution_count": 6,
     "metadata": {},
     "output_type": "execute_result"
    }
   ],
   "source": [
    "# Load saved TLJ review data\n",
    "#load the reviews file\n",
    "os.chdir(r\"O:\\PDES\\PRISM\\Sullivan\\Personal Projects\")\n",
    "reviewtbl = pd.read_csv(\"RT_Last_Jedi_2017-12-28.txt\", sep=\"\\t\")\n",
    "\n",
    "#check - well at least the export/import fixes some of my string issues\n",
    "reviewtbl.head()"
   ]
  },
  {
   "cell_type": "code",
   "execution_count": 22,
   "metadata": {},
   "outputs": [
    {
     "name": "stdout",
     "output_type": "stream",
     "text": [
      "done in 0.234375s\n",
      "n_samples: 672, n_features: 4372\n"
     ]
    }
   ],
   "source": [
    "# Do TF-IDF Vectorizing\n",
    "#custom stop words\n",
    "from nltk.corpus import stopwords\n",
    "#stop_words = set(stopwords.words('english'))\n",
    "mywords = set([\"star\", \"wars\", \"movie\", \"film\", \"wa\", \"last\", \"jedi\"]) #'wa' to handle tokenizer's truncation of was\n",
    "#add custom words\n",
    "stop_words = set(stopwords.words('english')) | mywords\n",
    "\n",
    "t0 = time()\n",
    "vectorizer = TfidfVectorizer(max_df=0.5,\n",
    "                            min_df=2, stop_words=stop_words,\n",
    "                            use_idf=True,\n",
    "                            ngram_range=(1,2))\n",
    "X = vectorizer.fit_transform(reviewtbl[reviewtbl[\"rating\"]<=3.5][\"text\"].unique())\n",
    "\n",
    "print(\"done in %fs\" % (time() - t0))\n",
    "print(\"n_samples: %d, n_features: %d\" % X.shape)"
   ]
  },
  {
   "cell_type": "code",
   "execution_count": 23,
   "metadata": {},
   "outputs": [
    {
     "name": "stdout",
     "output_type": "stream",
     "text": [
      "Clustering sparse data with KMeans(algorithm='auto', copy_x=True, init='k-means++', max_iter=100,\n",
      "    n_clusters=2, n_init=1, n_jobs=1, precompute_distances='auto',\n",
      "    random_state=None, tol=0.0001, verbose=False)\n",
      "done in 0.188s\n",
      "\n",
      "Cluster 0: luke\n",
      " like\n",
      " force\n",
      " story\n",
      " characters\n",
      " disney\n",
      " johnson\n",
      " rian\n",
      " new\n",
      " one\n",
      "\n",
      "Cluster 1: worst\n",
      " plot\n",
      " bad\n",
      " good\n",
      " like\n",
      " terrible\n",
      " disappointing\n",
      " plot holes\n",
      " holes\n",
      " ever\n",
      "\n"
     ]
    }
   ],
   "source": [
    "# Do the Clustering\n",
    "kguess = 2\n",
    "km = KMeans(n_clusters=kguess, init='k-means++', max_iter=100, n_init=1,\n",
    "                verbose=False)\n",
    "\n",
    "print(\"Clustering sparse data with %s\" % km)\n",
    "t0 = time()\n",
    "km.fit(X)\n",
    "print(\"done in %0.3fs\" % (time() - t0))\n",
    "print()\n",
    "#prints top terms per cluster\n",
    "order_centroids = km.cluster_centers_.argsort()[:, ::-1]\n",
    "terms = vectorizer.get_feature_names()\n",
    "for i in range(kguess):\n",
    "    print(\"Cluster %d:\" % i, end='')\n",
    "    for ind in order_centroids[i, :10]:\n",
    "        print(' %s\\n' % terms[ind], end='')\n",
    "    print()\n"
   ]
  }
 ],
 "metadata": {
  "kernelspec": {
   "display_name": "Python 3",
   "language": "python",
   "name": "python3"
  },
  "language_info": {
   "codemirror_mode": {
    "name": "ipython",
    "version": 3
   },
   "file_extension": ".py",
   "mimetype": "text/x-python",
   "name": "python",
   "nbconvert_exporter": "python",
   "pygments_lexer": "ipython3",
   "version": "3.5.1"
  }
 },
 "nbformat": 4,
 "nbformat_minor": 2
}
