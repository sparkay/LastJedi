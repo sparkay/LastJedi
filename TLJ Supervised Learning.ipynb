{
 "cells": [
  {
   "cell_type": "markdown",
   "metadata": {},
   "source": [
    "## Categorization of The Last Jedi Reviews\n",
    "This notebook conducts supervised learning on RT's Last Jedi Reviews in order to extract common themes and estimate the proportion of users with certain objections."
   ]
  },
  {
   "cell_type": "code",
   "execution_count": 3,
   "metadata": {},
   "outputs": [
    {
     "name": "stderr",
     "output_type": "stream",
     "text": [
      "o:\\pdes\\prism\\sullivan\\kaggle\\python_for_r\\custpy\\lib\\site-packages\\statsmodels\\compat\\pandas.py:56: FutureWarning: The pandas.core.datetools module is deprecated and will be removed in a future version. Please use the pandas.tseries module instead.\n",
      "  from pandas.core import datetools\n"
     ]
    }
   ],
   "source": [
    "#load libraries\n",
    "import pandas as pd\n",
    "import nltk\n",
    "import os\n",
    "import string\n",
    "import re\n",
    "from plotnine import *"
   ]
  },
  {
   "cell_type": "code",
   "execution_count": 4,
   "metadata": {
    "collapsed": true
   },
   "outputs": [],
   "source": [
    "#load the reviews file\n",
    "os.chdir(r\"O:\\PDES\\PRISM\\Sullivan\\Personal Projects\")\n",
    "reviewtbl = pd.read_csv(\"RT_Last_Jedi_2017-12-28.txt\", sep=\"\\t\")"
   ]
  },
  {
   "cell_type": "code",
   "execution_count": 9,
   "metadata": {},
   "outputs": [
    {
     "data": {
      "text/plain": [
       "(85, 4)"
      ]
     },
     "execution_count": 9,
     "metadata": {},
     "output_type": "execute_result"
    }
   ],
   "source": [
    "#split into training, test, and rest\n",
    "handpct = 0.1 #fraction of reviews we're going to hand categorize\n",
    "#initially we'll use bootstraping of the hand set to test - given the diversity of reviews, that's not going to work. \n",
    "#Probably need another 10%\n",
    "handset = reviewtbl.drop_duplicates().sample(frac=handpct)\n",
    "handset.shape"
   ]
  },
  {
   "cell_type": "code",
   "execution_count": 13,
   "metadata": {},
   "outputs": [],
   "source": [
    "#extract unselected rows from reviewtbl\n",
    "reviewtbl_all = reviewtbl.merge(handset, how='left', indicator=True)\n",
    "reviewtbl_remainder = reviewtbl_all[reviewtbl_all[\"_merge\"] == 'left_only']"
   ]
  },
  {
   "cell_type": "code",
   "execution_count": 14,
   "metadata": {},
   "outputs": [],
   "source": [
    "#write hand and remaining sets to files\n",
    "date = pd.to_datetime('today')\n",
    "handset.to_csv(\"RT_Last_Jedi_{}-{}-{}.handset.txt\".format(date.year, date.month, date.day), index=False, sep='\\t')\n",
    "reviewtbl_remainder.to_csv(\"RT_Last_Jedi_{}-{}-{}.remainder.txt\".format(date.year, date.month, date.day), index=False, sep='\\t')"
   ]
  },
  {
   "cell_type": "markdown",
   "metadata": {},
   "source": [
    "### Go do hand categorization in excel\n",
    "Then reload the training file."
   ]
  }
 ],
 "metadata": {
  "kernelspec": {
   "display_name": "Python 3",
   "language": "python",
   "name": "python3"
  },
  "language_info": {
   "codemirror_mode": {
    "name": "ipython",
    "version": 3
   },
   "file_extension": ".py",
   "mimetype": "text/x-python",
   "name": "python",
   "nbconvert_exporter": "python",
   "pygments_lexer": "ipython3",
   "version": "3.5.1"
  }
 },
 "nbformat": 4,
 "nbformat_minor": 2
}
